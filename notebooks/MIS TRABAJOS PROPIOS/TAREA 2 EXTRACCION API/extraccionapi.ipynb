{
 "cells": [
  {
   "cell_type": "markdown",
   "id": "165182a9",
   "metadata": {},
   "source": [
    "EXTRACCION API: DUMMYJSON"
   ]
  },
  {
   "cell_type": "code",
   "execution_count": 1,
   "id": "6a7ac1c8",
   "metadata": {},
   "outputs": [
    {
     "name": "stdout",
     "output_type": "stream",
     "text": [
      "✅ Archivo 'productos_reviews.txt' creado con éxito\n"
     ]
    }
   ],
   "source": [
    "import requests\n",
    "\n",
    "response = requests.get('https://dummyjson.com/products')\n",
    "\n",
    "if response.status_code == 200:\n",
    "    data = response.json()\n",
    "    products = data['products']   # lista de productos\n",
    "\n",
    "    # Abrimos archivo de texto para escribir todo ordenado\n",
    "    with open(\"productos_reviews.txt\", \"w\", encoding=\"utf-8\") as f:\n",
    "        for product in products:\n",
    "            # Guardamos lo mismo que imprimías\n",
    "            f.write(f\"ID: {product.get('id', 'Sin ID')}\\n\")\n",
    "            f.write(f\"Nombre: {product.get('title', 'Sin nombre')}\\n\")\n",
    "            f.write(f\"Precio: {product.get('price', 'Sin precio')}\\n\")\n",
    "            f.write(f\"Marca: {product.get('brand', 'Sin marca')}\\n\")\n",
    "            f.write(f\"Categoría: {product.get('category', 'Sin categoría')}\\n\")\n",
    "\n",
    "            reviews = product.get(\"reviews\", [])\n",
    "            if reviews:\n",
    "                f.write(\"Reseñas:\\n\")\n",
    "                for review in reviews:\n",
    "                    f.write(f\"-- Usuario: {review.get('reviewerName')}\\n\")\n",
    "                    f.write(f\"-- Valoracion: {review.get('rating')}\\n\")\n",
    "                    f.write(f\"-- Comentario: {review.get('comment')}\\n\")\n",
    "            else:\n",
    "                f.write(\"Reseñas: (sin reseñas)\\n\")\n",
    "\n",
    "            f.write(\"-\" * 40 + \"\\n\\n\")  # separador entre productos\n",
    "\n",
    "    print(\"✅ Archivo 'productos_reviews.txt' creado con éxito\")\n",
    "\n",
    "else:\n",
    "    print(\"Error:\", response.status_code)\n"
   ]
  }
 ],
 "metadata": {
  "kernelspec": {
   "display_name": "taller-ii-boilerplate-OxHwyBA4-py3.13",
   "language": "python",
   "name": "python3"
  },
  "language_info": {
   "codemirror_mode": {
    "name": "ipython",
    "version": 3
   },
   "file_extension": ".py",
   "mimetype": "text/x-python",
   "name": "python",
   "nbconvert_exporter": "python",
   "pygments_lexer": "ipython3",
   "version": "3.13.6"
  }
 },
 "nbformat": 4,
 "nbformat_minor": 5
}
